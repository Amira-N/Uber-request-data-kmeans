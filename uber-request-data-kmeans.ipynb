{
 "cells": [
  {
   "cell_type": "markdown",
   "id": "1ff2d6d8",
   "metadata": {
    "papermill": {
     "duration": 0.040825,
     "end_time": "2021-08-28T08:25:53.907282",
     "exception": false,
     "start_time": "2021-08-28T08:25:53.866457",
     "status": "completed"
    },
    "tags": []
   },
   "source": [
    "### Import Libraries"
   ]
  },
  {
   "cell_type": "code",
   "execution_count": 1,
   "id": "1321c874",
   "metadata": {
    "execution": {
     "iopub.execute_input": "2021-08-28T08:25:54.000450Z",
     "iopub.status.busy": "2021-08-28T08:25:53.999416Z",
     "iopub.status.idle": "2021-08-28T08:25:54.010983Z",
     "shell.execute_reply": "2021-08-28T08:25:54.011615Z",
     "shell.execute_reply.started": "2021-08-28T08:23:58.223934Z"
    },
    "papermill": {
     "duration": 0.064421,
     "end_time": "2021-08-28T08:25:54.011994",
     "exception": false,
     "start_time": "2021-08-28T08:25:53.947573",
     "status": "completed"
    },
    "scrolled": true,
    "tags": []
   },
   "outputs": [],
   "source": [
    "import pandas as pd"
   ]
  },
  {
   "cell_type": "code",
   "execution_count": 2,
   "id": "7f0c66aa",
   "metadata": {
    "execution": {
     "iopub.execute_input": "2021-08-28T08:25:54.100943Z",
     "iopub.status.busy": "2021-08-28T08:25:54.100047Z",
     "iopub.status.idle": "2021-08-28T08:25:54.103567Z",
     "shell.execute_reply": "2021-08-28T08:25:54.104123Z",
     "shell.execute_reply.started": "2021-08-28T08:23:58.229810Z"
    },
    "papermill": {
     "duration": 0.047099,
     "end_time": "2021-08-28T08:25:54.104290",
     "exception": false,
     "start_time": "2021-08-28T08:25:54.057191",
     "status": "completed"
    },
    "tags": []
   },
   "outputs": [],
   "source": [
    "import numpy as np"
   ]
  },
  {
   "cell_type": "code",
   "execution_count": 3,
   "id": "4cae3da6",
   "metadata": {
    "execution": {
     "iopub.execute_input": "2021-08-28T08:25:54.194408Z",
     "iopub.status.busy": "2021-08-28T08:25:54.193515Z",
     "iopub.status.idle": "2021-08-28T08:25:54.200727Z",
     "shell.execute_reply": "2021-08-28T08:25:54.200214Z",
     "shell.execute_reply.started": "2021-08-28T08:23:58.241062Z"
    },
    "papermill": {
     "duration": 0.056523,
     "end_time": "2021-08-28T08:25:54.200867",
     "exception": false,
     "start_time": "2021-08-28T08:25:54.144344",
     "status": "completed"
    },
    "tags": []
   },
   "outputs": [],
   "source": [
    "import matplotlib.pyplot as plt"
   ]
  },
  {
   "cell_type": "code",
   "execution_count": 4,
   "id": "1cecc970",
   "metadata": {
    "execution": {
     "iopub.execute_input": "2021-08-28T08:25:54.314652Z",
     "iopub.status.busy": "2021-08-28T08:25:54.314103Z",
     "iopub.status.idle": "2021-08-28T08:25:54.317145Z",
     "shell.execute_reply": "2021-08-28T08:25:54.316681Z",
     "shell.execute_reply.started": "2021-08-28T08:23:58.251505Z"
    },
    "papermill": {
     "duration": 0.057081,
     "end_time": "2021-08-28T08:25:54.317281",
     "exception": false,
     "start_time": "2021-08-28T08:25:54.260200",
     "status": "completed"
    },
    "tags": []
   },
   "outputs": [],
   "source": [
    "### Import Data"
   ]
  },
  {
   "cell_type": "markdown",
   "id": "6fe4713b",
   "metadata": {
    "papermill": {
     "duration": 0.040395,
     "end_time": "2021-08-28T08:25:54.399089",
     "exception": false,
     "start_time": "2021-08-28T08:25:54.358694",
     "status": "completed"
    },
    "tags": []
   },
   "source": []
  },
  {
   "cell_type": "code",
   "execution_count": 5,
   "id": "d08fce31",
   "metadata": {
    "execution": {
     "iopub.execute_input": "2021-08-28T08:25:54.499917Z",
     "iopub.status.busy": "2021-08-28T08:25:54.498905Z",
     "iopub.status.idle": "2021-08-28T08:25:54.615302Z",
     "shell.execute_reply": "2021-08-28T08:25:54.614770Z",
     "shell.execute_reply.started": "2021-08-28T08:23:58.261156Z"
    },
    "papermill": {
     "duration": 0.172535,
     "end_time": "2021-08-28T08:25:54.615450",
     "exception": false,
     "start_time": "2021-08-28T08:25:54.442915",
     "status": "completed"
    },
    "tags": []
   },
   "outputs": [],
   "source": [
    "data = pd.read_csv(\"Uber_Request_Data.csv\")"
   ]
  },
  {
   "cell_type": "markdown",
   "id": "a64eaef1",
   "metadata": {
    "papermill": {
     "duration": 0.040586,
     "end_time": "2021-08-28T08:25:54.696146",
     "exception": false,
     "start_time": "2021-08-28T08:25:54.655560",
     "status": "completed"
    },
    "tags": []
   },
   "source": [
    "### Print Columns and Rows"
   ]
  },
  {
   "cell_type": "code",
   "execution_count": 6,
   "id": "6af963f1",
   "metadata": {
    "execution": {
     "iopub.execute_input": "2021-08-28T08:25:54.780401Z",
     "iopub.status.busy": "2021-08-28T08:25:54.779814Z",
     "iopub.status.idle": "2021-08-28T08:25:54.782513Z",
     "shell.execute_reply": "2021-08-28T08:25:54.782934Z",
     "shell.execute_reply.started": "2021-08-28T08:23:58.298974Z"
    },
    "papermill": {
     "duration": 0.047312,
     "end_time": "2021-08-28T08:25:54.783092",
     "exception": false,
     "start_time": "2021-08-28T08:25:54.735780",
     "status": "completed"
    },
    "tags": []
   },
   "outputs": [
    {
     "name": "stdout",
     "output_type": "stream",
     "text": [
      "(6745, 6)\n"
     ]
    }
   ],
   "source": [
    "print(data.shape)"
   ]
  },
  {
   "cell_type": "markdown",
   "id": "50cf19ea",
   "metadata": {
    "papermill": {
     "duration": 0.039974,
     "end_time": "2021-08-28T08:25:54.863367",
     "exception": false,
     "start_time": "2021-08-28T08:25:54.823393",
     "status": "completed"
    },
    "tags": []
   },
   "source": [
    "### Change Column Names"
   ]
  },
  {
   "cell_type": "code",
   "execution_count": 7,
   "id": "24ad1d2b",
   "metadata": {
    "execution": {
     "iopub.execute_input": "2021-08-28T08:25:54.948034Z",
     "iopub.status.busy": "2021-08-28T08:25:54.947421Z",
     "iopub.status.idle": "2021-08-28T08:25:54.950292Z",
     "shell.execute_reply": "2021-08-28T08:25:54.949793Z",
     "shell.execute_reply.started": "2021-08-28T08:23:58.305984Z"
    },
    "papermill": {
     "duration": 0.04714,
     "end_time": "2021-08-28T08:25:54.950430",
     "exception": false,
     "start_time": "2021-08-28T08:25:54.903290",
     "status": "completed"
    },
    "tags": []
   },
   "outputs": [],
   "source": [
    "data.columns = ['Request_ID','Pickup_Point','Driver_ID','Status','Request_Timestamp','Drop_Timestamp']"
   ]
  },
  {
   "cell_type": "markdown",
   "id": "072c9050",
   "metadata": {
    "papermill": {
     "duration": 0.039751,
     "end_time": "2021-08-28T08:25:55.032413",
     "exception": false,
     "start_time": "2021-08-28T08:25:54.992662",
     "status": "completed"
    },
    "tags": []
   },
   "source": [
    "### Convert timestamp datatype to object"
   ]
  },
  {
   "cell_type": "code",
   "execution_count": 8,
   "id": "70f7b650",
   "metadata": {
    "execution": {
     "iopub.execute_input": "2021-08-28T08:25:55.149411Z",
     "iopub.status.busy": "2021-08-28T08:25:55.128674Z",
     "iopub.status.idle": "2021-08-28T08:25:55.696999Z",
     "shell.execute_reply": "2021-08-28T08:25:55.696364Z",
     "shell.execute_reply.started": "2021-08-28T08:23:58.316203Z"
    },
    "papermill": {
     "duration": 0.623265,
     "end_time": "2021-08-28T08:25:55.697137",
     "exception": false,
     "start_time": "2021-08-28T08:25:55.073872",
     "status": "completed"
    },
    "tags": []
   },
   "outputs": [],
   "source": [
    "data[\"Request_Timestamp\"] = pd.to_datetime(data[\"Request_Timestamp\"])"
   ]
  },
  {
   "cell_type": "markdown",
   "id": "e942ca80",
   "metadata": {
    "papermill": {
     "duration": 0.040215,
     "end_time": "2021-08-28T08:25:55.778293",
     "exception": false,
     "start_time": "2021-08-28T08:25:55.738078",
     "status": "completed"
    },
    "tags": []
   },
   "source": [
    "### Fetch hour from the timestamp to plot time slots"
   ]
  },
  {
   "cell_type": "code",
   "execution_count": 9,
   "id": "5aeb2665",
   "metadata": {
    "execution": {
     "iopub.execute_input": "2021-08-28T08:25:55.863120Z",
     "iopub.status.busy": "2021-08-28T08:25:55.862493Z",
     "iopub.status.idle": "2021-08-28T08:25:55.867134Z",
     "shell.execute_reply": "2021-08-28T08:25:55.866546Z",
     "shell.execute_reply.started": "2021-08-28T08:23:58.916523Z"
    },
    "papermill": {
     "duration": 0.0489,
     "end_time": "2021-08-28T08:25:55.867301",
     "exception": false,
     "start_time": "2021-08-28T08:25:55.818401",
     "status": "completed"
    },
    "tags": []
   },
   "outputs": [],
   "source": [
    "data[\"Request_Hour\"] = data[\"Request_Timestamp\"].dt.hour"
   ]
  },
  {
   "cell_type": "code",
   "execution_count": 10,
   "id": "35c2f13f",
   "metadata": {
    "execution": {
     "iopub.execute_input": "2021-08-28T08:25:55.962759Z",
     "iopub.status.busy": "2021-08-28T08:25:55.961901Z",
     "iopub.status.idle": "2021-08-28T08:25:56.233612Z",
     "shell.execute_reply": "2021-08-28T08:25:56.234057Z",
     "shell.execute_reply.started": "2021-08-28T08:23:58.924963Z"
    },
    "papermill": {
     "duration": 0.326173,
     "end_time": "2021-08-28T08:25:56.234238",
     "exception": false,
     "start_time": "2021-08-28T08:25:55.908065",
     "status": "completed"
    },
    "tags": []
   },
   "outputs": [],
   "source": [
    "data[\"Drop_Timestamp\"] = pd.to_datetime(data[\"Drop_Timestamp\"])"
   ]
  },
  {
   "cell_type": "code",
   "execution_count": 11,
   "id": "228eeef8",
   "metadata": {
    "execution": {
     "iopub.execute_input": "2021-08-28T08:25:56.317820Z",
     "iopub.status.busy": "2021-08-28T08:25:56.317288Z",
     "iopub.status.idle": "2021-08-28T08:25:56.323079Z",
     "shell.execute_reply": "2021-08-28T08:25:56.322583Z",
     "shell.execute_reply.started": "2021-08-28T08:23:59.176294Z"
    },
    "papermill": {
     "duration": 0.048832,
     "end_time": "2021-08-28T08:25:56.323234",
     "exception": false,
     "start_time": "2021-08-28T08:25:56.274402",
     "status": "completed"
    },
    "tags": []
   },
   "outputs": [],
   "source": [
    "data[\"Drop_Hour\"] = data[\"Drop_Timestamp\"].dt.hour"
   ]
  },
  {
   "cell_type": "markdown",
   "id": "3161eebf",
   "metadata": {
    "papermill": {
     "duration": 0.040453,
     "end_time": "2021-08-28T08:25:56.403675",
     "exception": false,
     "start_time": "2021-08-28T08:25:56.363222",
     "status": "completed"
    },
    "tags": []
   },
   "source": [
    "### Delete Request Timestamp and Drop Timestamp columns"
   ]
  },
  {
   "cell_type": "code",
   "execution_count": 12,
   "id": "0f6ad3b9",
   "metadata": {
    "execution": {
     "iopub.execute_input": "2021-08-28T08:25:56.489701Z",
     "iopub.status.busy": "2021-08-28T08:25:56.489090Z",
     "iopub.status.idle": "2021-08-28T08:25:56.495276Z",
     "shell.execute_reply": "2021-08-28T08:25:56.494732Z",
     "shell.execute_reply.started": "2021-08-28T08:23:59.183243Z"
    },
    "papermill": {
     "duration": 0.051273,
     "end_time": "2021-08-28T08:25:56.495416",
     "exception": false,
     "start_time": "2021-08-28T08:25:56.444143",
     "status": "completed"
    },
    "tags": []
   },
   "outputs": [],
   "source": [
    "data.drop(['Request_Timestamp', 'Drop_Timestamp'], axis='columns', inplace=True)"
   ]
  },
  {
   "cell_type": "code",
   "execution_count": 13,
   "id": "0f99b66b",
   "metadata": {
    "execution": {
     "iopub.execute_input": "2021-08-28T08:25:56.582806Z",
     "iopub.status.busy": "2021-08-28T08:25:56.582232Z",
     "iopub.status.idle": "2021-08-28T08:25:56.594079Z",
     "shell.execute_reply": "2021-08-28T08:25:56.594812Z",
     "shell.execute_reply.started": "2021-08-28T08:23:59.196946Z"
    },
    "papermill": {
     "duration": 0.059441,
     "end_time": "2021-08-28T08:25:56.595106",
     "exception": false,
     "start_time": "2021-08-28T08:25:56.535665",
     "status": "completed"
    },
    "tags": []
   },
   "outputs": [
    {
     "name": "stdout",
     "output_type": "stream",
     "text": [
      "      Request_ID Pickup_Point  Driver_ID             Status  Request_Hour  \\\n",
      "0            619      Airport        1.0     Trip Completed            11   \n",
      "1            867      Airport        1.0     Trip Completed            17   \n",
      "2           1807         City        1.0     Trip Completed             9   \n",
      "3           2532      Airport        1.0     Trip Completed            21   \n",
      "4           3112         City        1.0     Trip Completed             8   \n",
      "...          ...          ...        ...                ...           ...   \n",
      "6740        6745         City        NaN  No Cars Available            23   \n",
      "6741        6752      Airport        NaN  No Cars Available            23   \n",
      "6742        6751         City        NaN  No Cars Available            23   \n",
      "6743        6754         City        NaN  No Cars Available            23   \n",
      "6744        6753      Airport        NaN  No Cars Available            23   \n",
      "\n",
      "      Drop_Hour  \n",
      "0          13.0  \n",
      "1          18.0  \n",
      "2           9.0  \n",
      "3          22.0  \n",
      "4           9.0  \n",
      "...         ...  \n",
      "6740        NaN  \n",
      "6741        NaN  \n",
      "6742        NaN  \n",
      "6743        NaN  \n",
      "6744        NaN  \n",
      "\n",
      "[6745 rows x 6 columns]\n"
     ]
    }
   ],
   "source": [
    "print(data)"
   ]
  },
  {
   "cell_type": "markdown",
   "id": "ba9587b1",
   "metadata": {
    "papermill": {
     "duration": 0.040308,
     "end_time": "2021-08-28T08:25:56.677109",
     "exception": false,
     "start_time": "2021-08-28T08:25:56.636801",
     "status": "completed"
    },
    "tags": []
   },
   "source": [
    "### Filter all the cancelled trips from the data"
   ]
  },
  {
   "cell_type": "code",
   "execution_count": 14,
   "id": "3dcf79a0",
   "metadata": {
    "execution": {
     "iopub.execute_input": "2021-08-28T08:25:56.762583Z",
     "iopub.status.busy": "2021-08-28T08:25:56.762027Z",
     "iopub.status.idle": "2021-08-28T08:25:56.767123Z",
     "shell.execute_reply": "2021-08-28T08:25:56.766523Z",
     "shell.execute_reply.started": "2021-08-28T08:23:59.217680Z"
    },
    "papermill": {
     "duration": 0.049929,
     "end_time": "2021-08-28T08:25:56.767267",
     "exception": false,
     "start_time": "2021-08-28T08:25:56.717338",
     "status": "completed"
    },
    "tags": []
   },
   "outputs": [],
   "source": [
    "cancelled_trips = data[data['Status'] == 'Cancelled']"
   ]
  },
  {
   "cell_type": "code",
   "execution_count": 15,
   "id": "2d45ad43",
   "metadata": {
    "execution": {
     "iopub.execute_input": "2021-08-28T08:25:56.852862Z",
     "iopub.status.busy": "2021-08-28T08:25:56.852322Z",
     "iopub.status.idle": "2021-08-28T08:25:56.854672Z",
     "shell.execute_reply": "2021-08-28T08:25:56.855122Z",
     "shell.execute_reply.started": "2021-08-28T08:23:59.225596Z"
    },
    "papermill": {
     "duration": 0.047002,
     "end_time": "2021-08-28T08:25:56.855289",
     "exception": false,
     "start_time": "2021-08-28T08:25:56.808287",
     "status": "completed"
    },
    "tags": []
   },
   "outputs": [
    {
     "name": "stdout",
     "output_type": "stream",
     "text": [
      "(1264, 6)\n"
     ]
    }
   ],
   "source": [
    "print(cancelled_trips.shape)"
   ]
  },
  {
   "cell_type": "markdown",
   "id": "d07049a9",
   "metadata": {
    "papermill": {
     "duration": 0.040081,
     "end_time": "2021-08-28T08:25:56.935622",
     "exception": false,
     "start_time": "2021-08-28T08:25:56.895541",
     "status": "completed"
    },
    "tags": []
   },
   "source": [
    "### Filter all the trips where cars were not available from the data"
   ]
  },
  {
   "cell_type": "code",
   "execution_count": 16,
   "id": "6bd305db",
   "metadata": {
    "execution": {
     "iopub.execute_input": "2021-08-28T08:25:57.020868Z",
     "iopub.status.busy": "2021-08-28T08:25:57.020262Z",
     "iopub.status.idle": "2021-08-28T08:25:57.024689Z",
     "shell.execute_reply": "2021-08-28T08:25:57.025136Z",
     "shell.execute_reply.started": "2021-08-28T08:23:59.238963Z"
    },
    "papermill": {
     "duration": 0.04814,
     "end_time": "2021-08-28T08:25:57.025290",
     "exception": false,
     "start_time": "2021-08-28T08:25:56.977150",
     "status": "completed"
    },
    "tags": []
   },
   "outputs": [],
   "source": [
    "no_cars_available = data[data['Status'] == 'No Cars Available']"
   ]
  },
  {
   "cell_type": "code",
   "execution_count": 17,
   "id": "f360adb3",
   "metadata": {
    "execution": {
     "iopub.execute_input": "2021-08-28T08:25:57.110828Z",
     "iopub.status.busy": "2021-08-28T08:25:57.110106Z",
     "iopub.status.idle": "2021-08-28T08:25:57.115218Z",
     "shell.execute_reply": "2021-08-28T08:25:57.114748Z",
     "shell.execute_reply.started": "2021-08-28T08:23:59.253466Z"
    },
    "papermill": {
     "duration": 0.048807,
     "end_time": "2021-08-28T08:25:57.115355",
     "exception": false,
     "start_time": "2021-08-28T08:25:57.066548",
     "status": "completed"
    },
    "tags": []
   },
   "outputs": [
    {
     "name": "stdout",
     "output_type": "stream",
     "text": [
      "(2650, 6)\n"
     ]
    }
   ],
   "source": [
    "print(no_cars_available.shape)"
   ]
  },
  {
   "cell_type": "markdown",
   "id": "5dff9c52",
   "metadata": {
    "papermill": {
     "duration": 0.040503,
     "end_time": "2021-08-28T08:25:57.196763",
     "exception": false,
     "start_time": "2021-08-28T08:25:57.156260",
     "status": "completed"
    },
    "tags": []
   },
   "source": [
    "### Filter all the completed trips from the data"
   ]
  },
  {
   "cell_type": "code",
   "execution_count": 18,
   "id": "8389faf2",
   "metadata": {
    "execution": {
     "iopub.execute_input": "2021-08-28T08:25:57.284479Z",
     "iopub.status.busy": "2021-08-28T08:25:57.283831Z",
     "iopub.status.idle": "2021-08-28T08:25:57.287340Z",
     "shell.execute_reply": "2021-08-28T08:25:57.287787Z",
     "shell.execute_reply.started": "2021-08-28T08:23:59.266245Z"
    },
    "papermill": {
     "duration": 0.049551,
     "end_time": "2021-08-28T08:25:57.287965",
     "exception": false,
     "start_time": "2021-08-28T08:25:57.238414",
     "status": "completed"
    },
    "tags": []
   },
   "outputs": [],
   "source": [
    "completed_trips = data[data['Status'] == 'Trip Completed']"
   ]
  },
  {
   "cell_type": "code",
   "execution_count": 19,
   "id": "1306ce96",
   "metadata": {
    "execution": {
     "iopub.execute_input": "2021-08-28T08:25:57.375099Z",
     "iopub.status.busy": "2021-08-28T08:25:57.374495Z",
     "iopub.status.idle": "2021-08-28T08:25:57.377015Z",
     "shell.execute_reply": "2021-08-28T08:25:57.377440Z",
     "shell.execute_reply.started": "2021-08-28T08:23:59.279693Z"
    },
    "papermill": {
     "duration": 0.048292,
     "end_time": "2021-08-28T08:25:57.377597",
     "exception": false,
     "start_time": "2021-08-28T08:25:57.329305",
     "status": "completed"
    },
    "scrolled": true,
    "tags": []
   },
   "outputs": [
    {
     "name": "stdout",
     "output_type": "stream",
     "text": [
      "(2831, 6)\n"
     ]
    }
   ],
   "source": [
    "print(completed_trips.shape)"
   ]
  },
  {
   "cell_type": "code",
   "execution_count": 20,
   "id": "7cad210e",
   "metadata": {
    "execution": {
     "iopub.execute_input": "2021-08-28T08:25:57.466876Z",
     "iopub.status.busy": "2021-08-28T08:25:57.466219Z",
     "iopub.status.idle": "2021-08-28T08:25:57.479382Z",
     "shell.execute_reply": "2021-08-28T08:25:57.478660Z",
     "shell.execute_reply.started": "2021-08-28T08:23:59.290253Z"
    },
    "papermill": {
     "duration": 0.060387,
     "end_time": "2021-08-28T08:25:57.479566",
     "exception": false,
     "start_time": "2021-08-28T08:25:57.419179",
     "status": "completed"
    },
    "tags": []
   },
   "outputs": [
    {
     "name": "stdout",
     "output_type": "stream",
     "text": [
      "Series([], dtype: int64)\n"
     ]
    }
   ],
   "source": [
    "print(cancelled_trips.value_counts())"
   ]
  },
  {
   "cell_type": "markdown",
   "id": "6ef0f049",
   "metadata": {
    "papermill": {
     "duration": 0.041894,
     "end_time": "2021-08-28T08:25:57.563680",
     "exception": false,
     "start_time": "2021-08-28T08:25:57.521786",
     "status": "completed"
    },
    "tags": []
   },
   "source": [
    "### Plot a pie chart to show the number of trips of each type"
   ]
  },
  {
   "cell_type": "code",
   "execution_count": 21,
   "id": "1d5cd68d",
   "metadata": {
    "execution": {
     "iopub.execute_input": "2021-08-28T08:25:57.650185Z",
     "iopub.status.busy": "2021-08-28T08:25:57.649601Z",
     "iopub.status.idle": "2021-08-28T08:25:57.653933Z",
     "shell.execute_reply": "2021-08-28T08:25:57.653439Z",
     "shell.execute_reply.started": "2021-08-28T08:23:59.310970Z"
    },
    "papermill": {
     "duration": 0.048605,
     "end_time": "2021-08-28T08:25:57.654069",
     "exception": false,
     "start_time": "2021-08-28T08:25:57.605464",
     "status": "completed"
    },
    "scrolled": true,
    "tags": []
   },
   "outputs": [],
   "source": [
    "y = np.array([1264, 2650, 2831])"
   ]
  },
  {
   "cell_type": "code",
   "execution_count": 22,
   "id": "42108316",
   "metadata": {
    "execution": {
     "iopub.execute_input": "2021-08-28T08:25:57.743641Z",
     "iopub.status.busy": "2021-08-28T08:25:57.742686Z",
     "iopub.status.idle": "2021-08-28T08:25:57.744986Z",
     "shell.execute_reply": "2021-08-28T08:25:57.745488Z",
     "shell.execute_reply.started": "2021-08-28T08:23:59.316300Z"
    },
    "papermill": {
     "duration": 0.04851,
     "end_time": "2021-08-28T08:25:57.745645",
     "exception": false,
     "start_time": "2021-08-28T08:25:57.697135",
     "status": "completed"
    },
    "tags": []
   },
   "outputs": [],
   "source": [
    "statuslabels = [\"Cancelled\", \"No Cars Available\", \"Trip Completed\"]"
   ]
  },
  {
   "cell_type": "code",
   "execution_count": 23,
   "id": "e9cd5b08",
   "metadata": {
    "execution": {
     "iopub.execute_input": "2021-08-28T08:25:57.831952Z",
     "iopub.status.busy": "2021-08-28T08:25:57.831083Z",
     "iopub.status.idle": "2021-08-28T08:25:57.961407Z",
     "shell.execute_reply": "2021-08-28T08:25:57.960853Z",
     "shell.execute_reply.started": "2021-08-28T08:23:59.327141Z"
    },
    "papermill": {
     "duration": 0.174373,
     "end_time": "2021-08-28T08:25:57.961546",
     "exception": false,
     "start_time": "2021-08-28T08:25:57.787173",
     "status": "completed"
    },
    "scrolled": true,
    "tags": []
   },
   "outputs": [
    {
     "data": {
      "text/plain": [
       "([<matplotlib.patches.Wedge at 0x7f0f4176a050>,\n",
       "  <matplotlib.patches.Wedge at 0x7f0f4176a8d0>,\n",
       "  <matplotlib.patches.Wedge at 0x7f0f4174e110>],\n",
       " [Text(0.9148122117335421, 0.6108343615606322, 'Cancelled'),\n",
       "  Text(-0.8197978372292601, 0.7334381405914392, 'No Cars Available'),\n",
       "  Text(0.27450168572516787, -1.0651989600699212, 'Trip Completed')],\n",
       " [Text(0.49898847912738653, 0.3331823790330721, '18.74%'),\n",
       "  Text(-0.44716245667050547, 0.40005716759533044, '39.29%'),\n",
       "  Text(0.1497281922137279, -0.5810176145835932, '41.97%')])"
      ]
     },
     "execution_count": 23,
     "metadata": {},
     "output_type": "execute_result"
    },
    {
     "data": {
      "image/png": "[encoded data removed]",
      "text/plain": [
       "<Figure size 432x288 with 1 Axes>"
      ]
     },
     "metadata": {},
     "output_type": "display_data"
    }
   ],
   "source": [
    "plt.pie(y, labels = statuslabels, autopct = '%2.2f%%')"
   ]
  },
  {
   "cell_type": "markdown",
   "id": "a043b272",
   "metadata": {
    "papermill": {
     "duration": 0.041446,
     "end_time": "2021-08-28T08:25:58.045598",
     "exception": false,
     "start_time": "2021-08-28T08:25:58.004152",
     "status": "completed"
    },
    "tags": []
   },
   "source": [
    "### Plot a bar chart to show the supply demand gap"
   ]
  },
  {
   "cell_type": "code",
   "execution_count": 24,
   "id": "9d5332a9",
   "metadata": {
    "execution": {
     "iopub.execute_input": "2021-08-28T08:25:58.134094Z",
     "iopub.status.busy": "2021-08-28T08:25:58.133512Z",
     "iopub.status.idle": "2021-08-28T08:25:58.137139Z",
     "shell.execute_reply": "2021-08-28T08:25:58.137572Z",
     "shell.execute_reply.started": "2021-08-28T08:23:59.418426Z"
    },
    "papermill": {
     "duration": 0.048758,
     "end_time": "2021-08-28T08:25:58.137726",
     "exception": false,
     "start_time": "2021-08-28T08:25:58.088968",
     "status": "completed"
    },
    "tags": []
   },
   "outputs": [],
   "source": [
    "x = [\"Supply\", \"Demand\"]"
   ]
  },
  {
   "cell_type": "code",
   "execution_count": 25,
   "id": "a389cf35",
   "metadata": {
    "execution": {
     "iopub.execute_input": "2021-08-28T08:25:58.224566Z",
     "iopub.status.busy": "2021-08-28T08:25:58.224020Z",
     "iopub.status.idle": "2021-08-28T08:25:58.227105Z",
     "shell.execute_reply": "2021-08-28T08:25:58.227536Z",
     "shell.execute_reply.started": "2021-08-28T08:23:59.424080Z"
    },
    "papermill": {
     "duration": 0.047672,
     "end_time": "2021-08-28T08:25:58.227682",
     "exception": false,
     "start_time": "2021-08-28T08:25:58.180010",
     "status": "completed"
    },
    "tags": []
   },
   "outputs": [],
   "source": [
    "y = np.array([2831, 6745])"
   ]
  },
  {
   "cell_type": "code",
   "execution_count": 26,
   "id": "e103ea54",
   "metadata": {
    "execution": {
     "iopub.execute_input": "2021-08-28T08:25:58.314839Z",
     "iopub.status.busy": "2021-08-28T08:25:58.314280Z",
     "iopub.status.idle": "2021-08-28T08:25:58.386611Z",
     "shell.execute_reply": "2021-08-28T08:25:58.386053Z",
     "shell.execute_reply.started": "2021-08-28T08:23:59.434217Z"
    },
    "papermill": {
     "duration": 0.1169,
     "end_time": "2021-08-28T08:25:58.386740",
     "exception": false,
     "start_time": "2021-08-28T08:25:58.269840",
     "status": "completed"
    },
    "scrolled": true,
    "tags": []
   },
   "outputs": [
    {
     "data": {
      "text/plain": [
       "([<matplotlib.patches.Wedge at 0x7f0f415e1f10>,\n",
       "  <matplotlib.patches.Wedge at 0x7f0f415f0810>],\n",
       " [Text(0.6587063113848798, 0.8809687822742223, 'Supply'),\n",
       "  Text(-0.6587063113848801, -0.8809687822742219, 'Demand')],\n",
       " [Text(0.3592943516644798, 0.48052842669503026, '29.56%'),\n",
       "  Text(-0.35929435166448004, -0.4805284266950301, '70.44%')])"
      ]
     },
     "execution_count": 26,
     "metadata": {},
     "output_type": "execute_result"
    },
    {
     "data": {
      "image/png": "[encoded data removed]",
      "text/plain": [
       "<Figure size 432x288 with 1 Axes>"
      ]
     },
     "metadata": {},
     "output_type": "display_data"
    }
   ],
   "source": [
    "plt.pie(y, labels = x, autopct = '%2.2f%%')"
   ]
  },
  {
   "cell_type": "markdown",
   "id": "abf49704",
   "metadata": {
    "papermill": {
     "duration": 0.042769,
     "end_time": "2021-08-28T08:25:58.472853",
     "exception": false,
     "start_time": "2021-08-28T08:25:58.430084",
     "status": "completed"
    },
    "tags": []
   },
   "source": [
    "### Convert the hours column to list format"
   ]
  },
  {
   "cell_type": "code",
   "execution_count": 27,
   "id": "ef4d1160",
   "metadata": {
    "execution": {
     "iopub.execute_input": "2021-08-28T08:25:58.563352Z",
     "iopub.status.busy": "2021-08-28T08:25:58.562775Z",
     "iopub.status.idle": "2021-08-28T08:25:58.565381Z",
     "shell.execute_reply": "2021-08-28T08:25:58.564932Z",
     "shell.execute_reply.started": "2021-08-28T08:23:59.518143Z"
    },
    "papermill": {
     "duration": 0.049305,
     "end_time": "2021-08-28T08:25:58.565501",
     "exception": false,
     "start_time": "2021-08-28T08:25:58.516196",
     "status": "completed"
    },
    "tags": []
   },
   "outputs": [],
   "source": [
    "cancelled_hour = cancelled_trips['Request_Hour'].tolist()"
   ]
  },
  {
   "cell_type": "code",
   "execution_count": 28,
   "id": "32534563",
   "metadata": {
    "execution": {
     "iopub.execute_input": "2021-08-28T08:25:58.655502Z",
     "iopub.status.busy": "2021-08-28T08:25:58.654966Z",
     "iopub.status.idle": "2021-08-28T08:25:58.657756Z",
     "shell.execute_reply": "2021-08-28T08:25:58.657322Z",
     "shell.execute_reply.started": "2021-08-28T08:23:59.523446Z"
    },
    "papermill": {
     "duration": 0.04957,
     "end_time": "2021-08-28T08:25:58.657886",
     "exception": false,
     "start_time": "2021-08-28T08:25:58.608316",
     "status": "completed"
    },
    "tags": []
   },
   "outputs": [],
   "source": [
    "notavailable_hour = no_cars_available['Request_Hour'].tolist()"
   ]
  },
  {
   "cell_type": "markdown",
   "id": "d3b898cb",
   "metadata": {
    "papermill": {
     "duration": 0.042173,
     "end_time": "2021-08-28T08:25:58.743668",
     "exception": false,
     "start_time": "2021-08-28T08:25:58.701495",
     "status": "completed"
    },
    "tags": []
   },
   "source": [
    "### Plot a histogram to show the time slots when trips got cancelled"
   ]
  },
  {
   "cell_type": "code",
   "execution_count": 29,
   "id": "8b1746f4",
   "metadata": {
    "execution": {
     "iopub.execute_input": "2021-08-28T08:25:58.833050Z",
     "iopub.status.busy": "2021-08-28T08:25:58.832480Z",
     "iopub.status.idle": "2021-08-28T08:25:58.835351Z",
     "shell.execute_reply": "2021-08-28T08:25:58.834890Z",
     "shell.execute_reply.started": "2021-08-28T08:23:59.535494Z"
    },
    "papermill": {
     "duration": 0.049032,
     "end_time": "2021-08-28T08:25:58.835474",
     "exception": false,
     "start_time": "2021-08-28T08:25:58.786442",
     "status": "completed"
    },
    "tags": []
   },
   "outputs": [],
   "source": [
    "range = (0, 23)"
   ]
  },
  {
   "cell_type": "code",
   "execution_count": 30,
   "id": "eaede713",
   "metadata": {
    "execution": {
     "iopub.execute_input": "2021-08-28T08:25:58.927950Z",
     "iopub.status.busy": "2021-08-28T08:25:58.927359Z",
     "iopub.status.idle": "2021-08-28T08:25:58.929834Z",
     "shell.execute_reply": "2021-08-28T08:25:58.930417Z",
     "shell.execute_reply.started": "2021-08-28T08:23:59.547093Z"
    },
    "papermill": {
     "duration": 0.051925,
     "end_time": "2021-08-28T08:25:58.930593",
     "exception": false,
     "start_time": "2021-08-28T08:25:58.878668",
     "status": "completed"
    },
    "tags": []
   },
   "outputs": [],
   "source": [
    "bins = 24"
   ]
  },
  {
   "cell_type": "code",
   "execution_count": 31,
   "id": "b59b58f7",
   "metadata": {
    "execution": {
     "iopub.execute_input": "2021-08-28T08:25:59.022289Z",
     "iopub.status.busy": "2021-08-28T08:25:59.021699Z",
     "iopub.status.idle": "2021-08-28T08:25:59.024190Z",
     "shell.execute_reply": "2021-08-28T08:25:59.024564Z",
     "shell.execute_reply.started": "2021-08-28T08:23:59.558057Z"
    },
    "papermill": {
     "duration": 0.0497,
     "end_time": "2021-08-28T08:25:59.024715",
     "exception": false,
     "start_time": "2021-08-28T08:25:58.975015",
     "status": "completed"
    },
    "tags": []
   },
   "outputs": [],
   "source": [
    "def plots(q):\n",
    "    plt.hist(q, bins, range, color = 'green', histtype = 'bar', rwidth = 0.8)\n",
    "    plt.xlabel('Time Slots')\n",
    "    plt.ylabel(\"Number of Trips\")"
   ]
  },
  {
   "cell_type": "code",
   "execution_count": 32,
   "id": "0520453d",
   "metadata": {
    "execution": {
     "iopub.execute_input": "2021-08-28T08:25:59.137626Z",
     "iopub.status.busy": "2021-08-28T08:25:59.136665Z",
     "iopub.status.idle": "2021-08-28T08:25:59.288985Z",
     "shell.execute_reply": "2021-08-28T08:25:59.288484Z",
     "shell.execute_reply.started": "2021-08-28T08:23:59.568710Z"
    },
    "papermill": {
     "duration": 0.221462,
     "end_time": "2021-08-28T08:25:59.289120",
     "exception": false,
     "start_time": "2021-08-28T08:25:59.067658",
     "status": "completed"
    },
    "tags": []
   },
   "outputs": [
    {
     "data": {
      "image/png": "[encoded data removed]",
      "text/plain": [
       "<Figure size 432x288 with 1 Axes>"
      ]
     },
     "metadata": {
      "needs_background": "light"
     },
     "output_type": "display_data"
    }
   ],
   "source": [
    "plots(cancelled_hour)"
   ]
  },
  {
   "cell_type": "markdown",
   "id": "da51f0c7",
   "metadata": {
    "papermill": {
     "duration": 0.043289,
     "end_time": "2021-08-28T08:25:59.376194",
     "exception": false,
     "start_time": "2021-08-28T08:25:59.332905",
     "status": "completed"
    },
    "tags": []
   },
   "source": [
    "### Plot a histogram to show the time slots when cars were not available"
   ]
  },
  {
   "cell_type": "code",
   "execution_count": 33,
   "id": "5af49806",
   "metadata": {
    "execution": {
     "iopub.execute_input": "2021-08-28T08:25:59.485819Z",
     "iopub.status.busy": "2021-08-28T08:25:59.482987Z",
     "iopub.status.idle": "2021-08-28T08:25:59.644855Z",
     "shell.execute_reply": "2021-08-28T08:25:59.644269Z",
     "shell.execute_reply.started": "2021-08-28T08:23:59.749056Z"
    },
    "papermill": {
     "duration": 0.225015,
     "end_time": "2021-08-28T08:25:59.645022",
     "exception": false,
     "start_time": "2021-08-28T08:25:59.420007",
     "status": "completed"
    },
    "tags": []
   },
   "outputs": [
    {
     "data": {
      "image/png": "[encoded data removed]",
      "text/plain": [
       "<Figure size 432x288 with 1 Axes>"
      ]
     },
     "metadata": {
      "needs_background": "light"
     },
     "output_type": "display_data"
    }
   ],
   "source": [
    "plots(notavailable_hour)"
   ]
  },
  {
   "cell_type": "markdown",
   "id": "f6cfdbe3",
   "metadata": {
    "papermill": {
     "duration": 0.044683,
     "end_time": "2021-08-28T08:25:59.734152",
     "exception": false,
     "start_time": "2021-08-28T08:25:59.689469",
     "status": "completed"
    },
    "tags": []
   },
   "source": [
    "### Filter unsuccesful trips from city to airport"
   ]
  },
  {
   "cell_type": "code",
   "execution_count": 34,
   "id": "a37d57ee",
   "metadata": {
    "execution": {
     "iopub.execute_input": "2021-08-28T08:25:59.828130Z",
     "iopub.status.busy": "2021-08-28T08:25:59.827495Z",
     "iopub.status.idle": "2021-08-28T08:25:59.831401Z",
     "shell.execute_reply": "2021-08-28T08:25:59.830854Z",
     "shell.execute_reply.started": "2021-08-28T08:23:59.929450Z"
    },
    "papermill": {
     "duration": 0.053401,
     "end_time": "2021-08-28T08:25:59.831526",
     "exception": false,
     "start_time": "2021-08-28T08:25:59.778125",
     "status": "completed"
    },
    "tags": []
   },
   "outputs": [],
   "source": [
    "city_to_airport = data[(data.Status != 'Trip Completed') & (data.Pickup_Point == 'City')]"
   ]
  },
  {
   "cell_type": "code",
   "execution_count": 35,
   "id": "d3fdb44d",
   "metadata": {
    "execution": {
     "iopub.execute_input": "2021-08-28T08:25:59.927224Z",
     "iopub.status.busy": "2021-08-28T08:25:59.926463Z",
     "iopub.status.idle": "2021-08-28T08:25:59.930022Z",
     "shell.execute_reply": "2021-08-28T08:25:59.929575Z",
     "shell.execute_reply.started": "2021-08-28T08:23:59.936432Z"
    },
    "papermill": {
     "duration": 0.053246,
     "end_time": "2021-08-28T08:25:59.930155",
     "exception": false,
     "start_time": "2021-08-28T08:25:59.876909",
     "status": "completed"
    },
    "tags": []
   },
   "outputs": [
    {
     "name": "stdout",
     "output_type": "stream",
     "text": [
      "(2003, 6)\n"
     ]
    }
   ],
   "source": [
    "print(city_to_airport.shape)"
   ]
  },
  {
   "cell_type": "markdown",
   "id": "54f748bd",
   "metadata": {
    "papermill": {
     "duration": 0.044072,
     "end_time": "2021-08-28T08:26:00.018833",
     "exception": false,
     "start_time": "2021-08-28T08:25:59.974761",
     "status": "completed"
    },
    "tags": []
   },
   "source": [
    "### Filter unsuccessful trips from airport to city"
   ]
  },
  {
   "cell_type": "code",
   "execution_count": 36,
   "id": "57d278bc",
   "metadata": {
    "execution": {
     "iopub.execute_input": "2021-08-28T08:26:00.114426Z",
     "iopub.status.busy": "2021-08-28T08:26:00.113660Z",
     "iopub.status.idle": "2021-08-28T08:26:00.117305Z",
     "shell.execute_reply": "2021-08-28T08:26:00.116734Z",
     "shell.execute_reply.started": "2021-08-28T08:23:59.950009Z"
    },
    "papermill": {
     "duration": 0.054308,
     "end_time": "2021-08-28T08:26:00.117443",
     "exception": false,
     "start_time": "2021-08-28T08:26:00.063135",
     "status": "completed"
    },
    "tags": []
   },
   "outputs": [],
   "source": [
    "airport_to_city = data[(data.Status != 'Trip Completed') & (data.Pickup_Point == 'Airport')]"
   ]
  },
  {
   "cell_type": "code",
   "execution_count": 37,
   "id": "c17913a3",
   "metadata": {
    "execution": {
     "iopub.execute_input": "2021-08-28T08:26:00.210327Z",
     "iopub.status.busy": "2021-08-28T08:26:00.209626Z",
     "iopub.status.idle": "2021-08-28T08:26:00.213777Z",
     "shell.execute_reply": "2021-08-28T08:26:00.212987Z",
     "shell.execute_reply.started": "2021-08-28T08:23:59.962812Z"
    },
    "papermill": {
     "duration": 0.051977,
     "end_time": "2021-08-28T08:26:00.213978",
     "exception": false,
     "start_time": "2021-08-28T08:26:00.162001",
     "status": "completed"
    },
    "tags": []
   },
   "outputs": [
    {
     "name": "stdout",
     "output_type": "stream",
     "text": [
      "(1911, 6)\n"
     ]
    }
   ],
   "source": [
    "print(airport_to_city.shape)"
   ]
  },
  {
   "cell_type": "markdown",
   "id": "87669ed8",
   "metadata": {
    "papermill": {
     "duration": 0.044558,
     "end_time": "2021-08-28T08:26:00.303997",
     "exception": false,
     "start_time": "2021-08-28T08:26:00.259439",
     "status": "completed"
    },
    "tags": []
   },
   "source": [
    "### Plot a bar to show the gap between unsuccessful trips from city to airport and from airport to city"
   ]
  },
  {
   "cell_type": "code",
   "execution_count": 38,
   "id": "79205efa",
   "metadata": {
    "execution": {
     "iopub.execute_input": "2021-08-28T08:26:00.398246Z",
     "iopub.status.busy": "2021-08-28T08:26:00.397332Z",
     "iopub.status.idle": "2021-08-28T08:26:00.400554Z",
     "shell.execute_reply": "2021-08-28T08:26:00.399906Z",
     "shell.execute_reply.started": "2021-08-28T08:23:59.975657Z"
    },
    "papermill": {
     "duration": 0.051948,
     "end_time": "2021-08-28T08:26:00.400692",
     "exception": false,
     "start_time": "2021-08-28T08:26:00.348744",
     "status": "completed"
    },
    "tags": []
   },
   "outputs": [],
   "source": [
    "p = [\"Failed Trips from Airport to City\", \"Failed Trips from City to Airport\"]"
   ]
  },
  {
   "cell_type": "code",
   "execution_count": 39,
   "id": "f3013e1e",
   "metadata": {
    "execution": {
     "iopub.execute_input": "2021-08-28T08:26:00.494468Z",
     "iopub.status.busy": "2021-08-28T08:26:00.493581Z",
     "iopub.status.idle": "2021-08-28T08:26:00.496266Z",
     "shell.execute_reply": "2021-08-28T08:26:00.495684Z",
     "shell.execute_reply.started": "2021-08-28T08:23:59.983628Z"
    },
    "papermill": {
     "duration": 0.051169,
     "end_time": "2021-08-28T08:26:00.496392",
     "exception": false,
     "start_time": "2021-08-28T08:26:00.445223",
     "status": "completed"
    },
    "tags": []
   },
   "outputs": [],
   "source": [
    "q = np.array([1911, 2003])"
   ]
  },
  {
   "cell_type": "code",
   "execution_count": 40,
   "id": "367cc227",
   "metadata": {
    "execution": {
     "iopub.execute_input": "2021-08-28T08:26:00.588772Z",
     "iopub.status.busy": "2021-08-28T08:26:00.587904Z",
     "iopub.status.idle": "2021-08-28T08:26:00.669352Z",
     "shell.execute_reply": "2021-08-28T08:26:00.669790Z",
     "shell.execute_reply.started": "2021-08-28T08:23:59.994635Z"
    },
    "papermill": {
     "duration": 0.128792,
     "end_time": "2021-08-28T08:26:00.669976",
     "exception": false,
     "start_time": "2021-08-28T08:26:00.541184",
     "status": "completed"
    },
    "tags": []
   },
   "outputs": [
    {
     "data": {
      "text/plain": [
       "([<matplotlib.patches.Wedge at 0x7f0f4144a990>,\n",
       "  <matplotlib.patches.Wedge at 0x7f0f413d9290>],\n",
       " [Text(0.04060517048133803, 1.0992502991267192, 'Failed Trips from Airport to City'),\n",
       "  Text(-0.04060527340057912, -1.0992502953249839, 'Failed Trips from City to Airport')],\n",
       " [Text(0.022148274808002556, 0.5995910722509377, '48.82%'),\n",
       "  Text(-0.022148330945770428, -0.5995910701772639, '51.18%')])"
      ]
     },
     "execution_count": 40,
     "metadata": {},
     "output_type": "execute_result"
    },
    {
     "data": {
      "image/png": "[encoded data removed]",
      "text/plain": [
       "<Figure size 432x288 with 1 Axes>"
      ]
     },
     "metadata": {},
     "output_type": "display_data"
    }
   ],
   "source": [
    "plt.pie(q, labels = p, autopct = '%2.2f%%')"
   ]
  },
  {
   "cell_type": "markdown",
   "id": "1727a009",
   "metadata": {
    "papermill": {
     "duration": 0.045293,
     "end_time": "2021-08-28T08:26:00.761419",
     "exception": false,
     "start_time": "2021-08-28T08:26:00.716126",
     "status": "completed"
    },
    "tags": []
   },
   "source": [
    "### Filter cancelled trips from city to airport"
   ]
  },
  {
   "cell_type": "code",
   "execution_count": 41,
   "id": "8d4a9ed0",
   "metadata": {
    "execution": {
     "iopub.execute_input": "2021-08-28T08:26:00.855278Z",
     "iopub.status.busy": "2021-08-28T08:26:00.854369Z",
     "iopub.status.idle": "2021-08-28T08:26:00.860172Z",
     "shell.execute_reply": "2021-08-28T08:26:00.860594Z",
     "shell.execute_reply.started": "2021-08-28T08:24:00.087471Z"
    },
    "papermill": {
     "duration": 0.054053,
     "end_time": "2021-08-28T08:26:00.860748",
     "exception": false,
     "start_time": "2021-08-28T08:26:00.806695",
     "status": "completed"
    },
    "tags": []
   },
   "outputs": [],
   "source": [
    "city_to_airport_cancelled = data[(data.Status == 'Cancelled') & (data.Pickup_Point == 'City')]"
   ]
  },
  {
   "cell_type": "markdown",
   "id": "c9a5cb4f",
   "metadata": {
    "papermill": {
     "duration": 0.045116,
     "end_time": "2021-08-28T08:26:00.951327",
     "exception": false,
     "start_time": "2021-08-28T08:26:00.906211",
     "status": "completed"
    },
    "tags": []
   },
   "source": [
    "### Filter trips from city to airport when cars were not available"
   ]
  },
  {
   "cell_type": "code",
   "execution_count": 42,
   "id": "0a0d5e25",
   "metadata": {
    "execution": {
     "iopub.execute_input": "2021-08-28T08:26:01.045227Z",
     "iopub.status.busy": "2021-08-28T08:26:01.044346Z",
     "iopub.status.idle": "2021-08-28T08:26:01.050243Z",
     "shell.execute_reply": "2021-08-28T08:26:01.050665Z",
     "shell.execute_reply.started": "2021-08-28T08:24:00.094942Z"
    },
    "papermill": {
     "duration": 0.054241,
     "end_time": "2021-08-28T08:26:01.050822",
     "exception": false,
     "start_time": "2021-08-28T08:26:00.996581",
     "status": "completed"
    },
    "tags": []
   },
   "outputs": [],
   "source": [
    "city_to_airport_not_available = data[(data.Status == 'No Cars Available') & (data.Pickup_Point == 'City')]"
   ]
  },
  {
   "cell_type": "markdown",
   "id": "7a08ef38",
   "metadata": {
    "papermill": {
     "duration": 0.045207,
     "end_time": "2021-08-28T08:26:01.141527",
     "exception": false,
     "start_time": "2021-08-28T08:26:01.096320",
     "status": "completed"
    },
    "tags": []
   },
   "source": [
    "### Filter cancelled trips from airport to city"
   ]
  },
  {
   "cell_type": "code",
   "execution_count": 43,
   "id": "41fb9599",
   "metadata": {
    "execution": {
     "iopub.execute_input": "2021-08-28T08:26:01.235900Z",
     "iopub.status.busy": "2021-08-28T08:26:01.234990Z",
     "iopub.status.idle": "2021-08-28T08:26:01.241452Z",
     "shell.execute_reply": "2021-08-28T08:26:01.240881Z",
     "shell.execute_reply.started": "2021-08-28T08:24:00.115171Z"
    },
    "papermill": {
     "duration": 0.054842,
     "end_time": "2021-08-28T08:26:01.241579",
     "exception": false,
     "start_time": "2021-08-28T08:26:01.186737",
     "status": "completed"
    },
    "tags": []
   },
   "outputs": [],
   "source": [
    "airport_to_city_cancelled = data[(data.Status == 'Cancelled') & (data.Pickup_Point == 'Airport')]"
   ]
  },
  {
   "cell_type": "markdown",
   "id": "f4cf9608",
   "metadata": {
    "papermill": {
     "duration": 0.045537,
     "end_time": "2021-08-28T08:26:01.333072",
     "exception": false,
     "start_time": "2021-08-28T08:26:01.287535",
     "status": "completed"
    },
    "tags": []
   },
   "source": [
    "### Filter trips from airport to city when cars were not available"
   ]
  },
  {
   "cell_type": "code",
   "execution_count": 44,
   "id": "a1b89d57",
   "metadata": {
    "execution": {
     "iopub.execute_input": "2021-08-28T08:26:01.430769Z",
     "iopub.status.busy": "2021-08-28T08:26:01.429992Z",
     "iopub.status.idle": "2021-08-28T08:26:01.433832Z",
     "shell.execute_reply": "2021-08-28T08:26:01.433281Z",
     "shell.execute_reply.started": "2021-08-28T08:24:00.129567Z"
    },
    "papermill": {
     "duration": 0.055175,
     "end_time": "2021-08-28T08:26:01.433979",
     "exception": false,
     "start_time": "2021-08-28T08:26:01.378804",
     "status": "completed"
    },
    "tags": []
   },
   "outputs": [],
   "source": [
    "airport_to_city_not_available = data[(data.Status == 'No Cars Available') & (data.Pickup_Point == 'Airport')]"
   ]
  },
  {
   "cell_type": "markdown",
   "id": "497f54f7",
   "metadata": {
    "papermill": {
     "duration": 0.045356,
     "end_time": "2021-08-28T08:26:01.524602",
     "exception": false,
     "start_time": "2021-08-28T08:26:01.479246",
     "status": "completed"
    },
    "tags": []
   },
   "source": [
    "### Convert the hours column to list format"
   ]
  },
  {
   "cell_type": "code",
   "execution_count": 45,
   "id": "79f9f135",
   "metadata": {
    "execution": {
     "iopub.execute_input": "2021-08-28T08:26:01.620185Z",
     "iopub.status.busy": "2021-08-28T08:26:01.619571Z",
     "iopub.status.idle": "2021-08-28T08:26:01.621952Z",
     "shell.execute_reply": "2021-08-28T08:26:01.622335Z",
     "shell.execute_reply.started": "2021-08-28T08:24:00.141852Z"
    },
    "papermill": {
     "duration": 0.052346,
     "end_time": "2021-08-28T08:26:01.622489",
     "exception": false,
     "start_time": "2021-08-28T08:26:01.570143",
     "status": "completed"
    },
    "tags": []
   },
   "outputs": [],
   "source": [
    "city_to_airport_cancelled_hour = city_to_airport_cancelled['Request_Hour'].tolist()"
   ]
  },
  {
   "cell_type": "markdown",
   "id": "24087076",
   "metadata": {
    "papermill": {
     "duration": 0.045664,
     "end_time": "2021-08-28T08:26:01.713917",
     "exception": false,
     "start_time": "2021-08-28T08:26:01.668253",
     "status": "completed"
    },
    "tags": []
   },
   "source": [
    "### Plot a histogram to show the time slots when trip from city to airport got cancelled"
   ]
  },
  {
   "cell_type": "code",
   "execution_count": 46,
   "id": "8eb46163",
   "metadata": {
    "execution": {
     "iopub.execute_input": "2021-08-28T08:26:01.807951Z",
     "iopub.status.busy": "2021-08-28T08:26:01.807377Z",
     "iopub.status.idle": "2021-08-28T08:26:01.978781Z",
     "shell.execute_reply": "2021-08-28T08:26:01.979296Z",
     "shell.execute_reply.started": "2021-08-28T08:24:00.154344Z"
    },
    "papermill": {
     "duration": 0.219827,
     "end_time": "2021-08-28T08:26:01.979466",
     "exception": false,
     "start_time": "2021-08-28T08:26:01.759639",
     "status": "completed"
    },
    "tags": []
   },
   "outputs": [
    {
     "data": {
      "image/png": "[encoded data removed]",
      "text/plain": [
       "<Figure size 432x288 with 1 Axes>"
      ]
     },
     "metadata": {
      "needs_background": "light"
     },
     "output_type": "display_data"
    }
   ],
   "source": [
    "plots(city_to_airport_cancelled_hour)"
   ]
  },
  {
   "cell_type": "markdown",
   "id": "7c913b3f",
   "metadata": {
    "papermill": {
     "duration": 0.046,
     "end_time": "2021-08-28T08:26:02.073074",
     "exception": false,
     "start_time": "2021-08-28T08:26:02.027074",
     "status": "completed"
    },
    "tags": []
   },
   "source": [
    "### Convert the hours column to list format"
   ]
  },
  {
   "cell_type": "code",
   "execution_count": 47,
   "id": "9efc2449",
   "metadata": {
    "execution": {
     "iopub.execute_input": "2021-08-28T08:26:02.171816Z",
     "iopub.status.busy": "2021-08-28T08:26:02.171270Z",
     "iopub.status.idle": "2021-08-28T08:26:02.174115Z",
     "shell.execute_reply": "2021-08-28T08:26:02.173601Z",
     "shell.execute_reply.started": "2021-08-28T08:24:00.351420Z"
    },
    "papermill": {
     "duration": 0.053763,
     "end_time": "2021-08-28T08:26:02.174288",
     "exception": false,
     "start_time": "2021-08-28T08:26:02.120525",
     "status": "completed"
    },
    "tags": []
   },
   "outputs": [],
   "source": [
    "city_to_airport_not_available_hour = city_to_airport_not_available['Request_Hour'].tolist()"
   ]
  },
  {
   "cell_type": "markdown",
   "id": "e862c2c1",
   "metadata": {
    "papermill": {
     "duration": 0.046025,
     "end_time": "2021-08-28T08:26:02.266763",
     "exception": false,
     "start_time": "2021-08-28T08:26:02.220738",
     "status": "completed"
    },
    "tags": []
   },
   "source": [
    "### Plot a histogram to show the time slots when cars were not available for city to airport trip"
   ]
  },
  {
   "cell_type": "code",
   "execution_count": 48,
   "id": "943eb380",
   "metadata": {
    "execution": {
     "iopub.execute_input": "2021-08-28T08:26:02.386225Z",
     "iopub.status.busy": "2021-08-28T08:26:02.385609Z",
     "iopub.status.idle": "2021-08-28T08:26:02.528066Z",
     "shell.execute_reply": "2021-08-28T08:26:02.527512Z",
     "shell.execute_reply.started": "2021-08-28T08:24:00.357504Z"
    },
    "papermill": {
     "duration": 0.214669,
     "end_time": "2021-08-28T08:26:02.528203",
     "exception": false,
     "start_time": "2021-08-28T08:26:02.313534",
     "status": "completed"
    },
    "tags": []
   },
   "outputs": [
    {
     "data": {
      "image/png": "[encoded data removed]",
      "text/plain": [
       "<Figure size 432x288 with 1 Axes>"
      ]
     },
     "metadata": {
      "needs_background": "light"
     },
     "output_type": "display_data"
    }
   ],
   "source": [
    "plots(city_to_airport_not_available_hour)"
   ]
  },
  {
   "cell_type": "markdown",
   "id": "99f72927",
   "metadata": {
    "papermill": {
     "duration": 0.046403,
     "end_time": "2021-08-28T08:26:02.621835",
     "exception": false,
     "start_time": "2021-08-28T08:26:02.575432",
     "status": "completed"
    },
    "tags": []
   },
   "source": [
    "### Convert the hours column to list format"
   ]
  },
  {
   "cell_type": "code",
   "execution_count": 49,
   "id": "5f3f5c36",
   "metadata": {
    "execution": {
     "iopub.execute_input": "2021-08-28T08:26:02.721107Z",
     "iopub.status.busy": "2021-08-28T08:26:02.720494Z",
     "iopub.status.idle": "2021-08-28T08:26:02.723177Z",
     "shell.execute_reply": "2021-08-28T08:26:02.723577Z",
     "shell.execute_reply.started": "2021-08-28T08:24:00.530246Z"
    },
    "papermill": {
     "duration": 0.054537,
     "end_time": "2021-08-28T08:26:02.723751",
     "exception": false,
     "start_time": "2021-08-28T08:26:02.669214",
     "status": "completed"
    },
    "tags": []
   },
   "outputs": [],
   "source": [
    "airport_to_city_cancelled_hour = airport_to_city_cancelled['Request_Hour'].tolist()"
   ]
  },
  {
   "cell_type": "markdown",
   "id": "62f65bd3",
   "metadata": {
    "papermill": {
     "duration": 0.047294,
     "end_time": "2021-08-28T08:26:02.819640",
     "exception": false,
     "start_time": "2021-08-28T08:26:02.772346",
     "status": "completed"
    },
    "tags": []
   },
   "source": [
    "### Plot a histogram to show the time slots when trip from airport to city got cancelled"
   ]
  },
  {
   "cell_type": "code",
   "execution_count": 50,
   "id": "38c07a98",
   "metadata": {
    "execution": {
     "iopub.execute_input": "2021-08-28T08:26:02.937638Z",
     "iopub.status.busy": "2021-08-28T08:26:02.930969Z",
     "iopub.status.idle": "2021-08-28T08:26:03.087961Z",
     "shell.execute_reply": "2021-08-28T08:26:03.087427Z",
     "shell.execute_reply.started": "2021-08-28T08:24:00.536008Z"
    },
    "papermill": {
     "duration": 0.221416,
     "end_time": "2021-08-28T08:26:03.088099",
     "exception": false,
     "start_time": "2021-08-28T08:26:02.866683",
     "status": "completed"
    },
    "tags": []
   },
   "outputs": [
    {
     "data": {
      "image/png": "[encoded data removed]",
      "text/plain": [
       "<Figure size 432x288 with 1 Axes>"
      ]
     },
     "metadata": {
      "needs_background": "light"
     },
     "output_type": "display_data"
    }
   ],
   "source": [
    "plots(airport_to_city_cancelled_hour)"
   ]
  },
  {
   "cell_type": "markdown",
   "id": "e8b98f89",
   "metadata": {
    "papermill": {
     "duration": 0.046664,
     "end_time": "2021-08-28T08:26:03.183178",
     "exception": false,
     "start_time": "2021-08-28T08:26:03.136514",
     "status": "completed"
    },
    "tags": []
   },
   "source": [
    "### Convert the hours column to list format"
   ]
  },
  {
   "cell_type": "code",
   "execution_count": 51,
   "id": "a0e36e74",
   "metadata": {
    "execution": {
     "iopub.execute_input": "2021-08-28T08:26:03.281648Z",
     "iopub.status.busy": "2021-08-28T08:26:03.281095Z",
     "iopub.status.idle": "2021-08-28T08:26:03.284154Z",
     "shell.execute_reply": "2021-08-28T08:26:03.283695Z",
     "shell.execute_reply.started": "2021-08-28T08:24:00.711399Z"
    },
    "papermill": {
     "duration": 0.05397,
     "end_time": "2021-08-28T08:26:03.284315",
     "exception": false,
     "start_time": "2021-08-28T08:26:03.230345",
     "status": "completed"
    },
    "tags": []
   },
   "outputs": [],
   "source": [
    "airport_to_city_not_available_hour = airport_to_city_not_available['Request_Hour'].tolist()"
   ]
  },
  {
   "cell_type": "markdown",
   "id": "d8953630",
   "metadata": {
    "papermill": {
     "duration": 0.046248,
     "end_time": "2021-08-28T08:26:03.377467",
     "exception": false,
     "start_time": "2021-08-28T08:26:03.331219",
     "status": "completed"
    },
    "tags": []
   },
   "source": [
    "### Plot a histogram to show the time slots when cars were not availabale for airport to city trip"
   ]
  },
  {
   "cell_type": "code",
   "execution_count": 52,
   "id": "a102a06d",
   "metadata": {
    "execution": {
     "iopub.execute_input": "2021-08-28T08:26:03.489960Z",
     "iopub.status.busy": "2021-08-28T08:26:03.489255Z",
     "iopub.status.idle": "2021-08-28T08:26:03.649367Z",
     "shell.execute_reply": "2021-08-28T08:26:03.649781Z",
     "shell.execute_reply.started": "2021-08-28T08:24:00.717006Z"
    },
    "papermill": {
     "duration": 0.225882,
     "end_time": "2021-08-28T08:26:03.649969",
     "exception": false,
     "start_time": "2021-08-28T08:26:03.424087",
     "status": "completed"
    },
    "tags": []
   },
   "outputs": [
    {
     "data": {
      "image/png": "[encoded data removed]",
      "text/plain": [
       "<Figure size 432x288 with 1 Axes>"
      ]
     },
     "metadata": {
      "needs_background": "light"
     },
     "output_type": "display_data"
    }
   ],
   "source": [
    "plots(airport_to_city_not_available_hour)"
   ]
  },
  {
   "cell_type": "markdown",
   "id": "84823cb2",
   "metadata": {
    "papermill": {
     "duration": 0.049014,
     "end_time": "2021-08-28T08:26:03.748183",
     "exception": false,
     "start_time": "2021-08-28T08:26:03.699169",
     "status": "completed"
    },
    "tags": []
   },
   "source": [
    "### Conclusion"
   ]
  },
  {
   "cell_type": "markdown",
   "id": "50d90598",
   "metadata": {
    "papermill": {
     "duration": 0.047117,
     "end_time": "2021-08-28T08:26:03.843655",
     "exception": false,
     "start_time": "2021-08-28T08:26:03.796538",
     "status": "completed"
    },
    "tags": []
   },
   "source": [
    "#### 1. Heavy demand in the city from 4 AM to 11 PM"
   ]
  },
  {
   "cell_type": "markdown",
   "id": "d79cecb1",
   "metadata": {
    "papermill": {
     "duration": 0.04838,
     "end_time": "2021-08-28T08:26:03.939688",
     "exception": false,
     "start_time": "2021-08-28T08:26:03.891308",
     "status": "completed"
    },
    "tags": []
   },
   "source": [
    "#### 2. Heavy demand at the airport from 5 PM to 11 PM"
   ]
  },
  {
   "cell_type": "code",
   "execution_count": 30,
   "id": "4cc344ca",
   "metadata": {},
   "outputs": [],
   "source": [
    "import pandas as pd \n",
    "import numpy as np\n",
    "import matplotlib.pyplot as plt\n",
    "import seaborn as sns\n",
    "from sklearn.cluster import KMeans\n",
    "from sklearn.preprocessing import LabelEncoder, StandardScaler"
   ]
  },
  {
   "cell_type": "code",
   "execution_count": 31,
   "id": "50a52af1",
   "metadata": {},
   "outputs": [
    {
     "data": {
      "text/html": [
       "<div>\n",
       "<style scoped>\n",
       "    .dataframe tbody tr th:only-of-type {\n",
       "        vertical-align: middle;\n",
       "    }\n",
       "\n",
       "    .dataframe tbody tr th {\n",
       "        vertical-align: top;\n",
       "    }\n",
       "\n",
       "    .dataframe thead th {\n",
       "        text-align: right;\n",
       "    }\n",
       "</style>\n",
       "<table border=\"1\" class=\"dataframe\">\n",
       "  <thead>\n",
       "    <tr style=\"text-align: right;\">\n",
       "      <th></th>\n",
       "      <th>Request id</th>\n",
       "      <th>Pickup point</th>\n",
       "      <th>Driver id</th>\n",
       "      <th>Status</th>\n",
       "      <th>Request timestamp</th>\n",
       "      <th>Drop timestamp</th>\n",
       "    </tr>\n",
       "  </thead>\n",
       "  <tbody>\n",
       "    <tr>\n",
       "      <th>0</th>\n",
       "      <td>619</td>\n",
       "      <td>Airport</td>\n",
       "      <td>1.0</td>\n",
       "      <td>Trip Completed</td>\n",
       "      <td>11/7/2016 11:51</td>\n",
       "      <td>11/7/2016 13:00</td>\n",
       "    </tr>\n",
       "    <tr>\n",
       "      <th>1</th>\n",
       "      <td>867</td>\n",
       "      <td>Airport</td>\n",
       "      <td>1.0</td>\n",
       "      <td>Trip Completed</td>\n",
       "      <td>11/7/2016 17:57</td>\n",
       "      <td>11/7/2016 18:47</td>\n",
       "    </tr>\n",
       "    <tr>\n",
       "      <th>2</th>\n",
       "      <td>1807</td>\n",
       "      <td>City</td>\n",
       "      <td>1.0</td>\n",
       "      <td>Trip Completed</td>\n",
       "      <td>12/7/2016 9:17</td>\n",
       "      <td>12/7/2016 9:58</td>\n",
       "    </tr>\n",
       "    <tr>\n",
       "      <th>3</th>\n",
       "      <td>2532</td>\n",
       "      <td>Airport</td>\n",
       "      <td>1.0</td>\n",
       "      <td>Trip Completed</td>\n",
       "      <td>12/7/2016 21:08</td>\n",
       "      <td>12/7/2016 22:03</td>\n",
       "    </tr>\n",
       "    <tr>\n",
       "      <th>4</th>\n",
       "      <td>3112</td>\n",
       "      <td>City</td>\n",
       "      <td>1.0</td>\n",
       "      <td>Trip Completed</td>\n",
       "      <td>13-07-2016 08:33:16</td>\n",
       "      <td>13-07-2016 09:25:47</td>\n",
       "    </tr>\n",
       "  </tbody>\n",
       "</table>\n",
       "</div>"
      ],
      "text/plain": [
       "   Request id Pickup point  Driver id          Status    Request timestamp  \\\n",
       "0         619      Airport        1.0  Trip Completed      11/7/2016 11:51   \n",
       "1         867      Airport        1.0  Trip Completed      11/7/2016 17:57   \n",
       "2        1807         City        1.0  Trip Completed       12/7/2016 9:17   \n",
       "3        2532      Airport        1.0  Trip Completed      12/7/2016 21:08   \n",
       "4        3112         City        1.0  Trip Completed  13-07-2016 08:33:16   \n",
       "\n",
       "        Drop timestamp  \n",
       "0      11/7/2016 13:00  \n",
       "1      11/7/2016 18:47  \n",
       "2       12/7/2016 9:58  \n",
       "3      12/7/2016 22:03  \n",
       "4  13-07-2016 09:25:47  "
      ]
     },
     "execution_count": 31,
     "metadata": {},
     "output_type": "execute_result"
    }
   ],
   "source": [
    "df= pd.read_csv('Uber_Request_Data.csv')\n",
    "df.head()"
   ]
  },
  {
   "cell_type": "code",
   "execution_count": 32,
   "id": "d27b0084",
   "metadata": {},
   "outputs": [
    {
     "name": "stdout",
     "output_type": "stream",
     "text": [
      "Request id              0\n",
      "Pickup point            0\n",
      "Driver id            2650\n",
      "Status                  0\n",
      "Request timestamp       0\n",
      "Drop timestamp       3914\n",
      "dtype: int64\n"
     ]
    }
   ],
   "source": [
    "print(df.isnull().sum())"
   ]
  },
  {
   "cell_type": "code",
   "execution_count": 33,
   "id": "b2489871",
   "metadata": {},
   "outputs": [
    {
     "data": {
      "text/html": [
       "<div>\n",
       "<style scoped>\n",
       "    .dataframe tbody tr th:only-of-type {\n",
       "        vertical-align: middle;\n",
       "    }\n",
       "\n",
       "    .dataframe tbody tr th {\n",
       "        vertical-align: top;\n",
       "    }\n",
       "\n",
       "    .dataframe thead th {\n",
       "        text-align: right;\n",
       "    }\n",
       "</style>\n",
       "<table border=\"1\" class=\"dataframe\">\n",
       "  <thead>\n",
       "    <tr style=\"text-align: right;\">\n",
       "      <th></th>\n",
       "      <th>Request id</th>\n",
       "      <th>Pickup point</th>\n",
       "      <th>Driver id</th>\n",
       "      <th>Status</th>\n",
       "      <th>Request timestamp</th>\n",
       "      <th>Drop timestamp</th>\n",
       "    </tr>\n",
       "  </thead>\n",
       "  <tbody>\n",
       "    <tr>\n",
       "      <th>6740</th>\n",
       "      <td>6745</td>\n",
       "      <td>City</td>\n",
       "      <td>NaN</td>\n",
       "      <td>No Cars Available</td>\n",
       "      <td>15-07-2016 23:49:03</td>\n",
       "      <td>NaN</td>\n",
       "    </tr>\n",
       "    <tr>\n",
       "      <th>6741</th>\n",
       "      <td>6752</td>\n",
       "      <td>Airport</td>\n",
       "      <td>NaN</td>\n",
       "      <td>No Cars Available</td>\n",
       "      <td>15-07-2016 23:50:05</td>\n",
       "      <td>NaN</td>\n",
       "    </tr>\n",
       "    <tr>\n",
       "      <th>6742</th>\n",
       "      <td>6751</td>\n",
       "      <td>City</td>\n",
       "      <td>NaN</td>\n",
       "      <td>No Cars Available</td>\n",
       "      <td>15-07-2016 23:52:06</td>\n",
       "      <td>NaN</td>\n",
       "    </tr>\n",
       "    <tr>\n",
       "      <th>6743</th>\n",
       "      <td>6754</td>\n",
       "      <td>City</td>\n",
       "      <td>NaN</td>\n",
       "      <td>No Cars Available</td>\n",
       "      <td>15-07-2016 23:54:39</td>\n",
       "      <td>NaN</td>\n",
       "    </tr>\n",
       "    <tr>\n",
       "      <th>6744</th>\n",
       "      <td>6753</td>\n",
       "      <td>Airport</td>\n",
       "      <td>NaN</td>\n",
       "      <td>No Cars Available</td>\n",
       "      <td>15-07-2016 23:55:03</td>\n",
       "      <td>NaN</td>\n",
       "    </tr>\n",
       "  </tbody>\n",
       "</table>\n",
       "</div>"
      ],
      "text/plain": [
       "      Request id Pickup point  Driver id             Status  \\\n",
       "6740        6745         City        NaN  No Cars Available   \n",
       "6741        6752      Airport        NaN  No Cars Available   \n",
       "6742        6751         City        NaN  No Cars Available   \n",
       "6743        6754         City        NaN  No Cars Available   \n",
       "6744        6753      Airport        NaN  No Cars Available   \n",
       "\n",
       "        Request timestamp Drop timestamp  \n",
       "6740  15-07-2016 23:49:03            NaN  \n",
       "6741  15-07-2016 23:50:05            NaN  \n",
       "6742  15-07-2016 23:52:06            NaN  \n",
       "6743  15-07-2016 23:54:39            NaN  \n",
       "6744  15-07-2016 23:55:03            NaN  "
      ]
     },
     "execution_count": 33,
     "metadata": {},
     "output_type": "execute_result"
    }
   ],
   "source": [
    "df.tail()"
   ]
  },
  {
   "cell_type": "code",
   "execution_count": 34,
   "id": "414e9a1c",
   "metadata": {},
   "outputs": [],
   "source": [
    "df['Driver id'] = df['Driver id'].replace(np.NaN, 0)\n",
    "df['Drop timestamp'] = df['Drop timestamp'].replace(np.NaN, 0)"
   ]
  },
  {
   "cell_type": "code",
   "execution_count": 35,
   "id": "fb1a15a3",
   "metadata": {},
   "outputs": [
    {
     "data": {
      "text/html": [
       "<div>\n",
       "<style scoped>\n",
       "    .dataframe tbody tr th:only-of-type {\n",
       "        vertical-align: middle;\n",
       "    }\n",
       "\n",
       "    .dataframe tbody tr th {\n",
       "        vertical-align: top;\n",
       "    }\n",
       "\n",
       "    .dataframe thead th {\n",
       "        text-align: right;\n",
       "    }\n",
       "</style>\n",
       "<table border=\"1\" class=\"dataframe\">\n",
       "  <thead>\n",
       "    <tr style=\"text-align: right;\">\n",
       "      <th></th>\n",
       "      <th>Request id</th>\n",
       "      <th>Pickup point</th>\n",
       "      <th>Driver id</th>\n",
       "      <th>Status</th>\n",
       "      <th>Request timestamp</th>\n",
       "      <th>Drop timestamp</th>\n",
       "    </tr>\n",
       "  </thead>\n",
       "  <tbody>\n",
       "    <tr>\n",
       "      <th>6740</th>\n",
       "      <td>6745</td>\n",
       "      <td>City</td>\n",
       "      <td>0.0</td>\n",
       "      <td>No Cars Available</td>\n",
       "      <td>15-07-2016 23:49:03</td>\n",
       "      <td>0</td>\n",
       "    </tr>\n",
       "    <tr>\n",
       "      <th>6741</th>\n",
       "      <td>6752</td>\n",
       "      <td>Airport</td>\n",
       "      <td>0.0</td>\n",
       "      <td>No Cars Available</td>\n",
       "      <td>15-07-2016 23:50:05</td>\n",
       "      <td>0</td>\n",
       "    </tr>\n",
       "    <tr>\n",
       "      <th>6742</th>\n",
       "      <td>6751</td>\n",
       "      <td>City</td>\n",
       "      <td>0.0</td>\n",
       "      <td>No Cars Available</td>\n",
       "      <td>15-07-2016 23:52:06</td>\n",
       "      <td>0</td>\n",
       "    </tr>\n",
       "    <tr>\n",
       "      <th>6743</th>\n",
       "      <td>6754</td>\n",
       "      <td>City</td>\n",
       "      <td>0.0</td>\n",
       "      <td>No Cars Available</td>\n",
       "      <td>15-07-2016 23:54:39</td>\n",
       "      <td>0</td>\n",
       "    </tr>\n",
       "    <tr>\n",
       "      <th>6744</th>\n",
       "      <td>6753</td>\n",
       "      <td>Airport</td>\n",
       "      <td>0.0</td>\n",
       "      <td>No Cars Available</td>\n",
       "      <td>15-07-2016 23:55:03</td>\n",
       "      <td>0</td>\n",
       "    </tr>\n",
       "  </tbody>\n",
       "</table>\n",
       "</div>"
      ],
      "text/plain": [
       "      Request id Pickup point  Driver id             Status  \\\n",
       "6740        6745         City        0.0  No Cars Available   \n",
       "6741        6752      Airport        0.0  No Cars Available   \n",
       "6742        6751         City        0.0  No Cars Available   \n",
       "6743        6754         City        0.0  No Cars Available   \n",
       "6744        6753      Airport        0.0  No Cars Available   \n",
       "\n",
       "        Request timestamp Drop timestamp  \n",
       "6740  15-07-2016 23:49:03              0  \n",
       "6741  15-07-2016 23:50:05              0  \n",
       "6742  15-07-2016 23:52:06              0  \n",
       "6743  15-07-2016 23:54:39              0  \n",
       "6744  15-07-2016 23:55:03              0  "
      ]
     },
     "execution_count": 35,
     "metadata": {},
     "output_type": "execute_result"
    }
   ],
   "source": [
    "df.tail()"
   ]
  },
  {
   "cell_type": "code",
   "execution_count": 36,
   "id": "937c47db",
   "metadata": {},
   "outputs": [
    {
     "data": {
      "text/plain": [
       "<AxesSubplot:xlabel='Pickup point', ylabel='count'>"
      ]
     },
     "execution_count": 36,
     "metadata": {},
     "output_type": "execute_result"
    },
    {
     "data": {
      "image/png": "[encoded data removed]",
      "text/plain": [
       "<Figure size 720x432 with 1 Axes>"
      ]
     },
     "metadata": {
      "needs_background": "light"
     },
     "output_type": "display_data"
    }
   ],
   "source": [
    "plt.figure(figsize=(10,6))\n",
    "sns.countplot(x=\"Pickup point\", data=df, hue='Status')"
   ]
  },
  {
   "cell_type": "code",
   "execution_count": 40,
   "id": "b8222fed",
   "metadata": {},
   "outputs": [
    {
     "data": {
      "image/png": "[encoded data removed]",
      "text/plain": [
       "<Figure size 720x360 with 1 Axes>"
      ]
     },
     "metadata": {
      "needs_background": "light"
     },
     "output_type": "display_data"
    }
   ],
   "source": [
    "# Convert timestamp to datetime\n",
    "df['Request timestamp'] = pd.to_datetime(df['Request timestamp'])\n",
    "# Encode the categorical variable 'Pickup point'\n",
    "le = LabelEncoder()\n",
    "df['Pickup point'] = le.fit_transform(df['Pickup point'])\n",
    "df['Status'] = le.fit_transform(df['Status'])\n",
    "# Extract hour from timestamp\n",
    "df['hour'] = df['Request timestamp'].dt.hour \n",
    "\n",
    "# Initialize k-means with 2 clusters\n",
    "kmeans = KMeans(n_clusters=2,init='k-means++')\n",
    "\n",
    "# Fit the data to the k-means algorithm\n",
    "kmeans.fit_predict(df[['hour', 'Status', 'Pickup point']])\n",
    "\n",
    "# Visualize the clusters using a scatter plot\n",
    "fig, ax = plt.subplots(figsize=(10, 5))\n",
    "colors = np.array(['r', 'b'])\n",
    "ax.scatter(df['hour'], df['Status'], c=colors[kmeans.labels_])\n",
    "ax.set_xlabel('Request timestamp hrs')\n",
    "ax.set_ylabel('Status')\n",
    "ax.set_title('Uber Request Data Clusters by Pickup Point')\n",
    "ax.legend(handles=[plt.Line2D([], [], color=colors[0], marker='o', linestyle='None', label='City'),\n",
    "                    plt.Line2D([], [], color=colors[1], marker='o', linestyle='None', label='Airport')])\n",
    "plt.show()"
   ]
  },
  {
   "cell_type": "code",
   "execution_count": 42,
   "id": "2214bece",
   "metadata": {},
   "outputs": [
    {
     "data": {
      "text/plain": [
       "<seaborn.axisgrid.JointGrid at 0x2432d4b4220>"
      ]
     },
     "execution_count": 42,
     "metadata": {},
     "output_type": "execute_result"
    },
    {
     "data": {
      "image/png": "[encoded data removed]",
      "text/plain": [
       "<Figure size 432x432 with 3 Axes>"
      ]
     },
     "metadata": {
      "needs_background": "light"
     },
     "output_type": "display_data"
    }
   ],
   "source": [
    "sns.jointplot(x=df['hour'],y=df['Status'],data=df,hue=kmeans.labels_,kind=\"kde\")"
   ]
  },
  {
   "cell_type": "code",
   "execution_count": 43,
   "id": "f88d828f",
   "metadata": {},
   "outputs": [
    {
     "data": {
      "text/plain": [
       "<seaborn.axisgrid.JointGrid at 0x2432d59aac0>"
      ]
     },
     "execution_count": 43,
     "metadata": {},
     "output_type": "execute_result"
    },
    {
     "data": {
      "image/png": "[encoded data removed]",
      "text/plain": [
       "<Figure size 432x432 with 3 Axes>"
      ]
     },
     "metadata": {
      "needs_background": "light"
     },
     "output_type": "display_data"
    }
   ],
   "source": [
    "sns.jointplot(data=df, x=df['hour'], y=df['Status'], hue=kmeans.labels_)"
   ]
  },
  {
   "cell_type": "code",
   "execution_count": null,
   "id": "a76ac7eb",
   "metadata": {},
   "outputs": [],
   "source": [
    "df.tail()"
   ]
  }
 ],
 "metadata": {
  "kernelspec": {
   "display_name": "Python 3 (ipykernel)",
   "language": "python",
   "name": "python3"
  },
  "language_info": {
   "codemirror_mode": {
    "name": "ipython",
    "version": 3
   },
   "file_extension": ".py",
   "mimetype": "text/x-python",
   "name": "python",
   "nbconvert_exporter": "python",
   "pygments_lexer": "ipython3",
   "version": "3.9.12"
  },
  "papermill": {
   "default_parameters": {},
   "duration": 17.720146,
   "end_time": "2021-08-28T08:26:04.605061",
   "environment_variables": {},
   "exception": null,
   "input_path": "__notebook__.ipynb",
   "output_path": "__notebook__.ipynb",
   "parameters": {},
   "start_time": "2021-08-28T08:25:46.884915",
   "version": "2.3.3"
  }
 },
 "nbformat": 4,
 "nbformat_minor": 5
}
